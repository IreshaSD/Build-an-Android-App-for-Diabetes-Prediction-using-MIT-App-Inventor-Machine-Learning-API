{
  "nbformat": 4,
  "nbformat_minor": 0,
  "metadata": {
    "colab": {
      "private_outputs": true,
      "provenance": []
    },
    "kernelspec": {
      "name": "python3",
      "display_name": "Python 3"
    },
    "language_info": {
      "name": "python"
    }
  },
  "cells": [
    {
      "cell_type": "markdown",
      "source": [
        "**Installing the dependencies**"
      ],
      "metadata": {
        "id": "mFFMf950o-7L"
      }
    },
    {
      "cell_type": "code",
      "execution_count": null,
      "metadata": {
        "id": "6iCvvcDroh9i"
      },
      "outputs": [],
      "source": [
        "!pip install fastapi\n",
        "!pip install uvicorn\n",
        "!pip install pickles\n",
        "!pip install pydantic\n",
        "!pip install scikit-learn\n",
        "!pip install requests\n",
        "!pip install pypi-json\n",
        "!pip install pyngrok\n",
        "!pip install nest-asyncio\n"
      ]
    },
    {
      "cell_type": "code",
      "source": [
        "from fastapi import FastAPI\n",
        "from pydantic import BaseModel\n",
        "import pickle\n",
        "import json\n",
        "import uvicorn\n",
        "from pyngrok import ngrok\n",
        "from fastapi.middleware.cors import CORSMiddleware\n",
        "import nest_asyncio"
      ],
      "metadata": {
        "id": "ioiLSCF2pyEy"
      },
      "execution_count": null,
      "outputs": []
    },
    {
      "cell_type": "code",
      "source": [
        "app = FastAPI()"
      ],
      "metadata": {
        "id": "TTAMYDgpqsZ1"
      },
      "execution_count": null,
      "outputs": []
    },
    {
      "cell_type": "code",
      "source": [
        "origins = [\"*\"]\n",
        "\n",
        "app.add_middleware(\n",
        "    CORSMiddleware,\n",
        "    allow_origins = origins,\n",
        "    allow_credentials =True,\n",
        "    allow_methods = ['*'],\n",
        "    allow_headers=['*'],\n",
        "\n",
        "\n",
        ")\n",
        "\n"
      ],
      "metadata": {
        "id": "9-cQS3Lhqw6v"
      },
      "execution_count": null,
      "outputs": []
    },
    {
      "cell_type": "code",
      "source": [
        "class model_input(BaseModel):\n",
        "\n",
        "    Pregnancies : int\n",
        "    Glucose : int\n",
        "    BloodPressure: int\n",
        "    SkinThickness: int\n",
        "    Insulin: int\n",
        "    BMI: float\n",
        "    DiabetesPedigreeFunction: float\n",
        "    Age : int\n"
      ],
      "metadata": {
        "id": "NJxrtipyNeAi"
      },
      "execution_count": null,
      "outputs": []
    },
    {
      "cell_type": "code",
      "source": [
        "# Loading the saved model\n",
        "diabetes_model = pickle.load(open('Diabetes_Pipeline.sav','rb'))"
      ],
      "metadata": {
        "id": "ZnM9diIog7V9"
      },
      "execution_count": null,
      "outputs": []
    },
    {
      "cell_type": "code",
      "source": [
        "@app.post('/diabetes_prediction')\n",
        "\n",
        "def diabetes_predict(input_parameters: model_input):\n",
        "\n",
        "  input_data = input_parameters.json()\n",
        "  inpiut_dictionary = json.loads(input_data)\n",
        "\n",
        "  preg = input_dictionary['Pregnancies']\n",
        "  glu = input_dictionary['Glucose']\n",
        "  bp = input_dictionary['BloodPressure']\n",
        "  skin = input_dictionary['skinThickness']\n",
        "  insulin = input_dictionary['Insulin']\n",
        "  bmi = input_dictionary['BMI']\n",
        "  dpf = input_dictionary['DiabetesPedigreeFunction']\n",
        "  age = input_dictionary['Age']\n",
        "\n",
        "  input_list = [preg, glu, bp, skin, insulin, bmi,dpf,age]\n",
        "\n",
        "  predictions = diabetes_model.predict([input_list])\n",
        "\n",
        "  if ((predictions[0]) ==0):\n",
        "    return \"The Person is not Diabetec \"\n",
        "\n",
        "  else:\n",
        "    return \"The Person is Diabetec\""
      ],
      "metadata": {
        "id": "DU9drWF6jG5r"
      },
      "execution_count": null,
      "outputs": []
    },
    {
      "cell_type": "code",
      "source": [
        "!ngrok config add-authtoken <YOUR_NGROK_AUTH_TOKEN> # replace with your auth_token"
      ],
      "metadata": {
        "id": "-W-btAKQIOtt"
      },
      "execution_count": null,
      "outputs": []
    },
    {
      "cell_type": "code",
      "source": [
        "# We have to run this all time when we use the API.\n",
        "\n",
        "ngrok_tunnel = ngrok.connect(8000)\n",
        "print('Public URL:', ngrok_tunnel.public_url)\n",
        "nest_asyncio.apply()\n",
        "uvicorn.run(app, port=8000)"
      ],
      "metadata": {
        "id": "CZUQFVczHBij"
      },
      "execution_count": null,
      "outputs": []
    }
  ]
}